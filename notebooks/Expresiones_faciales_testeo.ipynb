{
  "nbformat": 4,
  "nbformat_minor": 0,
  "metadata": {
    "colab": {
      "name": "Expresiones_faciales_testeo.ipynb",
      "provenance": [],
      "collapsed_sections": [
        "SoYino2tsBSh",
        "dfhPoXXZsMKB",
        "SzW450zCa8dK",
        "0TXzqF9Ksa9O",
        "H4pB9be_rnTF"
      ]
    },
    "kernelspec": {
      "name": "python3",
      "display_name": "Python 3"
    },
    "language_info": {
      "name": "python"
    },
    "accelerator": "GPU"
  },
  "cells": [
    {
      "cell_type": "markdown",
      "metadata": {
        "id": "SoYino2tsBSh"
      },
      "source": [
        "# Librerias"
      ]
    },
    {
      "cell_type": "code",
      "metadata": {
        "id": "rltogE-0p-sw"
      },
      "source": [
        "from google.colab import drive\n",
        "import seaborn as sns\n",
        "import sklearn.metrics as metrics\n",
        "from pathlib import Path\n",
        "import tensorflow as tf\n",
        "from tensorflow import keras\n",
        "import pandas as pd\n",
        "import numpy as np\n",
        "from PIL import Image\n",
        "import pickle\n",
        "import collections\n",
        "import matplotlib.pyplot as plt\n",
        "import seaborn as sns\n",
        "from sklearn.metrics import confusion_matrix\n",
        "from keras.models import Model\n",
        "from scipy.optimize import minimize \n",
        "from sklearn.metrics import log_loss\n",
        "from funciones_auxiliares import *"
      ],
      "execution_count": null,
      "outputs": []
    },
    {
      "cell_type": "markdown",
      "metadata": {
        "id": "dfhPoXXZsMKB"
      },
      "source": [
        "# Importamos data"
      ]
    },
    {
      "cell_type": "code",
      "metadata": {
        "id": "MFtXW3BzmkTQ"
      },
      "source": [
        "# cambiar path\n",
        "path=\"/content/gdrive/MyDrive/modelosFER2013\""
      ],
      "execution_count": null,
      "outputs": []
    },
    {
      "cell_type": "code",
      "metadata": {
        "id": "iqwuNX5BqLZ3",
        "colab": {
          "base_uri": "https://localhost:8080/"
        },
        "outputId": "26bd86e5-e68b-411d-87f3-a9167e57116b"
      },
      "source": [
        "drive.mount('/content/gdrive')"
      ],
      "execution_count": null,
      "outputs": [
        {
          "output_type": "stream",
          "text": [
            "Mounted at /content/gdrive\n"
          ],
          "name": "stdout"
        }
      ]
    },
    {
      "cell_type": "code",
      "metadata": {
        "id": "D2k9RmbyqWNV"
      },
      "source": [
        "data=pd.read_csv(\"/content/gdrive/MyDrive/fer2013.csv\")\n",
        "Emotions = [\"Angry\", \"Disgust\", \"Fear\", \"Happy\", \"Sad\", \"Surprise\", \"Neutral\"]"
      ],
      "execution_count": null,
      "outputs": []
    },
    {
      "cell_type": "code",
      "metadata": {
        "id": "a8bOR_wlq7zL"
      },
      "source": [
        "# Separamos training y public/private testing data\n",
        "valid_data = data[data.Usage==\"PublicTest\"].reset_index(drop=True)\n",
        "test_data = data[data.Usage==\"PrivateTest\"].reset_index(drop=True)\n",
        "train_data = data[data.Usage==\"Training\"].reset_index(drop=True)"
      ],
      "execution_count": null,
      "outputs": []
    },
    {
      "cell_type": "markdown",
      "metadata": {
        "id": "SzW450zCa8dK"
      },
      "source": [
        "# Loading"
      ]
    },
    {
      "cell_type": "code",
      "metadata": {
        "id": "2VjTnzIkqGEQ"
      },
      "source": [
        "fer2013_to_X(train_data,\"train\")\n",
        "fer2013_to_X(valid_data,\"valid\")\n",
        "fer2013_to_X(test_data,\"test\")"
      ],
      "execution_count": null,
      "outputs": []
    },
    {
      "cell_type": "markdown",
      "metadata": {
        "id": "Wa21HNNKsABV"
      },
      "source": [
        "# Modelos\n",
        "\n",
        "https://www.kaggle.com/c/challenges-in-representation-learning-facial-expression-recognition-challenge/leaderboard"
      ]
    },
    {
      "cell_type": "code",
      "metadata": {
        "id": "lJzBXxN0qGBi"
      },
      "source": [
        "modelo_logistico=pickle.load(open(f\"{path}/ML_final_model.sav\", 'rb'))\n",
        "modelo_fc=tf.keras.models.load_model(f\"{path}/FC_final_model.h5\")\n",
        "modelo_cnn=tf.keras.models.load_model(f\"{path}/CNN_final_model.h5\")\n",
        "modelo_tl=tf.keras.models.load_model(f\"{path}/VGGface_final_model.h5\")"
      ],
      "execution_count": null,
      "outputs": []
    },
    {
      "cell_type": "code",
      "metadata": {
        "id": "xzQYeWIhqGJy",
        "colab": {
          "base_uri": "https://localhost:8080/"
        },
        "outputId": "a0568afe-8491-4da3-fab9-dea1f20bde4b"
      },
      "source": [
        "img_height, img_width, img_channel = 48,48,1\n",
        "xy_testing = tf.keras.preprocessing.image_dataset_from_directory(\"/content/data/test\", image_size=(48,48), color_mode='grayscale',label_mode=\"int\")"
      ],
      "execution_count": null,
      "outputs": [
        {
          "output_type": "stream",
          "text": [
            "Found 3589 files belonging to 7 classes.\n"
          ],
          "name": "stdout"
        }
      ]
    },
    {
      "cell_type": "code",
      "metadata": {
        "id": "Q1fqJ05oUCp7"
      },
      "source": [
        "x_test=[]\n",
        "y_test=[]\n",
        "for x, y in xy_testing:\n",
        "  for im in list(np.array(x)):\n",
        "    x_test=x_test+[np.array(im)]#a)]\n",
        "  y_test=y_test+list(np.array(y))\n",
        "\n",
        "x_test=np.array(x_test).reshape(len(x_test), img_height, img_width, img_channel)\n",
        "y_test=np.array(y_test)"
      ],
      "execution_count": null,
      "outputs": []
    },
    {
      "cell_type": "code",
      "metadata": {
        "id": "ZyRCPpqQqGV3",
        "colab": {
          "base_uri": "https://localhost:8080/"
        },
        "outputId": "98c50e44-a357-4af8-a145-a463f718211e"
      },
      "source": [
        "img_height, img_width, img_channel = 224, 224,3\n",
        "xy_testing_rgb = tf.keras.preprocessing.image_dataset_from_directory(\"/content/data/test\", image_size=(img_height, img_width), color_mode='rgb',label_mode=\"int\")"
      ],
      "execution_count": null,
      "outputs": [
        {
          "output_type": "stream",
          "text": [
            "Found 3589 files belonging to 7 classes.\n"
          ],
          "name": "stdout"
        }
      ]
    },
    {
      "cell_type": "code",
      "metadata": {
        "id": "BxXQqmxoUeO9"
      },
      "source": [
        "x_test_rgb=[]\n",
        "y_test_rgb=[]\n",
        "\n",
        "for x, y in xy_testing_rgb:\n",
        "  for im in list(np.array(x)):\n",
        "    x_test_rgb=x_test_rgb+[np.array(im)]#a)]\n",
        "  y_test_rgb=y_test_rgb+list(np.array(y))\n",
        "\n",
        "x_test_rgb=np.array(x_test_rgb).reshape(len(x_test_rgb), img_height, img_width, img_channel)\n",
        "y_test_rgb=np.array(y_test_rgb)"
      ],
      "execution_count": null,
      "outputs": []
    },
    {
      "cell_type": "code",
      "metadata": {
        "id": "iBYMmk0Y3N03",
        "colab": {
          "base_uri": "https://localhost:8080/"
        },
        "outputId": "a16e94c8-914b-4dcb-f261-d8c3df041107"
      },
      "source": [
        "img_height, img_width, img_channel = 48,48,1\n",
        "xy_validation = tf.keras.preprocessing.image_dataset_from_directory(\"/content/data/valid\", image_size=(48,48), color_mode='grayscale',label_mode=\"int\")"
      ],
      "execution_count": null,
      "outputs": [
        {
          "output_type": "stream",
          "text": [
            "Found 3589 files belonging to 7 classes.\n"
          ],
          "name": "stdout"
        }
      ]
    },
    {
      "cell_type": "code",
      "metadata": {
        "id": "abhlMMyd3N3i"
      },
      "source": [
        "x_valid=[]\n",
        "y_valid=[]\n",
        "for x, y in xy_validation:\n",
        "  for im in list(np.array(x)):\n",
        "    x_valid=x_valid+[np.array(im)]#a)]\n",
        "  y_valid=y_valid+list(np.array(y))\n",
        "\n",
        "x_valid=np.array(x_valid).reshape(len(x_valid), img_height, img_width, img_channel)\n",
        "y_valid=np.array(y_valid)"
      ],
      "execution_count": null,
      "outputs": []
    },
    {
      "cell_type": "markdown",
      "metadata": {
        "id": "0TXzqF9Ksa9O"
      },
      "source": [
        "# Metricas matrices de confusion\n",
        "\n",
        "\n"
      ]
    },
    {
      "cell_type": "markdown",
      "metadata": {
        "id": "ci_0Z5yvsmzq"
      },
      "source": [
        "### Regresión Logística"
      ]
    },
    {
      "cell_type": "code",
      "metadata": {
        "id": "4uxqeH2_TJHf"
      },
      "source": [
        "y_pred=modelo_logistico.predict(x_test.reshape(len(x_test), 48*48*1))\n",
        "np.mean(y_pred==y_test)"
      ],
      "execution_count": null,
      "outputs": []
    },
    {
      "cell_type": "code",
      "metadata": {
        "id": "KSdxhFENViHa"
      },
      "source": [
        "plot_cm(y_test, y_pred)"
      ],
      "execution_count": null,
      "outputs": []
    },
    {
      "cell_type": "markdown",
      "metadata": {
        "id": "anGqORoasrV6"
      },
      "source": [
        "### Red Fully Connected"
      ]
    },
    {
      "cell_type": "code",
      "metadata": {
        "id": "K94fqzXQS8G2"
      },
      "source": [
        "test_loss, test_acc = modelo_fc.evaluate(xy_testing, verbose=2)\n",
        "test_loss, test_acc"
      ],
      "execution_count": null,
      "outputs": []
    },
    {
      "cell_type": "code",
      "metadata": {
        "id": "Ui8DjsJyVeLp"
      },
      "source": [
        "y_pred=modelo_fc.predict(x_test).argmax(axis=1)\n",
        "plot_cm(y_test, y_pred)"
      ],
      "execution_count": null,
      "outputs": []
    },
    {
      "cell_type": "markdown",
      "metadata": {
        "id": "v1_wwN8Zs-eE"
      },
      "source": [
        "### Red CNN"
      ]
    },
    {
      "cell_type": "code",
      "metadata": {
        "id": "aZf7EsgIqGYa"
      },
      "source": [
        "test_loss, test_acc = modelo_cnn.evaluate(xy_testing, verbose=2)\n",
        "test_loss, test_acc"
      ],
      "execution_count": null,
      "outputs": []
    },
    {
      "cell_type": "code",
      "metadata": {
        "id": "x_x0-u8aVZXx"
      },
      "source": [
        "y_pred=modelo_cnn.predict(x_test).argmax(axis=1)\n",
        "plot_cm(y_test, y_pred)"
      ],
      "execution_count": null,
      "outputs": []
    },
    {
      "cell_type": "markdown",
      "metadata": {
        "id": "Ff4Y9BUPtFbc"
      },
      "source": [
        "### Redes preentrenadas"
      ]
    },
    {
      "cell_type": "code",
      "metadata": {
        "id": "9bkr1MEgMuqw"
      },
      "source": [
        "test_loss, test_acc = modelo_tl.evaluate(xy_testing_rgb, verbose=2)\n",
        "test_loss, test_acc"
      ],
      "execution_count": null,
      "outputs": []
    },
    {
      "cell_type": "code",
      "metadata": {
        "id": "FJ66TetxSUMA"
      },
      "source": [
        "y_pred=modelo_tl.predict(x_test_rgb).argmax(axis=1)\n",
        "plot_cm(y_test_rgb, y_pred)"
      ],
      "execution_count": null,
      "outputs": []
    },
    {
      "cell_type": "markdown",
      "metadata": {
        "id": "H4pB9be_rnTF"
      },
      "source": [
        "# Reliability diagrams\n",
        "\n",
        "Funciones: https://github.com/markus93/NN_calibration/blob/master/scripts/calibration/Reliability%20Diagram.ipynb"
      ]
    },
    {
      "cell_type": "code",
      "metadata": {
        "id": "X9Rdf4nErrFq"
      },
      "source": [
        "y_test_rgb\n",
        "y_pred_tl=modelo_tl.predict(x_test_rgb).argmax(axis=1)\n",
        "y_confs_tl=modelo_tl.predict(x_test_rgb).max(axis=1)\n",
        "y_probs_tl=modelo_tl.predict(x_test_rgb)\n",
        "acc_tl,conf_tl,lon=get_bin_info(y_confs_tl, y_pred_tl, y_test_rgb, bin_size = 0.1)"
      ],
      "execution_count": null,
      "outputs": []
    },
    {
      "cell_type": "code",
      "metadata": {
        "id": "ahtJa2AYBqdN"
      },
      "source": [
        ""
      ],
      "execution_count": null,
      "outputs": []
    },
    {
      "cell_type": "code",
      "metadata": {
        "colab": {
          "base_uri": "https://localhost:8080/"
        },
        "id": "Eq_7YgwsA_hC",
        "outputId": "a80726a6-1d8b-47ff-b2bb-7981f6906365"
      },
      "source": [
        "acc_tl,conf_tl"
      ],
      "execution_count": null,
      "outputs": [
        {
          "output_type": "execute_result",
          "data": {
            "text/plain": [
              "([0, 0, 0, 0, 0, 0, 0, 0.0, 0.42857142857142855, 0.7215861491203575],\n",
              " [0,\n",
              "  0,\n",
              "  0,\n",
              "  0,\n",
              "  0,\n",
              "  0,\n",
              "  0,\n",
              "  0.7476551532745361,\n",
              "  0.8539195571626935,\n",
              "  0.9970579720415639])"
            ]
          },
          "metadata": {
            "tags": []
          },
          "execution_count": 20
        }
      ]
    },
    {
      "cell_type": "code",
      "metadata": {
        "id": "oXRhysLlrtsA",
        "colab": {
          "base_uri": "https://localhost:8080/",
          "height": 314
        },
        "outputId": "3955bca0-f73f-4374-f4bb-f0b99dd283f8"
      },
      "source": [
        "fig, ax = plt.subplots(nrows=1, ncols=1, sharex='col', sharey='row')\n",
        "rel_diagram_sub(acc_tl,conf_tl, ax, name = \"Reliability Diagram TL\",  yname = \"Accuracy\", xname=\"Confidence\")"
      ],
      "execution_count": null,
      "outputs": [
        {
          "output_type": "display_data",
          "data": {
            "image/png": "[encoded data removed]",
            "text/plain": [
              "<Figure size 432x288 with 1 Axes>"
            ]
          },
          "metadata": {
            "tags": [],
            "needs_background": "light"
          }
        }
      ]
    },
    {
      "cell_type": "code",
      "metadata": {
        "id": "63qVtUEargB0"
      },
      "source": [
        "y_test\n",
        "y_pred=modelo_cnn.predict(x_test).argmax(axis=1)\n",
        "y_confs=modelo_cnn.predict(x_test).max(axis=1)\n",
        "y_probs=modelo_cnn.predict(x_test)\n",
        "acc,conf,lon=get_bin_info(y_confs, y_pred, y_test, bin_size = 0.1)"
      ],
      "execution_count": null,
      "outputs": []
    },
    {
      "cell_type": "code",
      "metadata": {
        "id": "1T12fWeMrgNM",
        "colab": {
          "base_uri": "https://localhost:8080/",
          "height": 314
        },
        "outputId": "1738745d-f272-4a0a-d2a2-44e41a47fe87"
      },
      "source": [
        "fig, ax = plt.subplots(nrows=1, ncols=1, sharex='col', sharey='row')\n",
        "rel_diagram_sub(acc, conf, ax, name = \"Reliability Diagram CNN\", yname = \"Accuracy\", xname=\"Confidence\")"
      ],
      "execution_count": null,
      "outputs": [
        {
          "output_type": "display_data",
          "data": {
            "image/png": "[encoded data removed]",
            "text/plain": [
              "<Figure size 432x288 with 1 Axes>"
            ]
          },
          "metadata": {
            "tags": [],
            "needs_background": "light"
          }
        }
      ]
    },
    {
      "cell_type": "markdown",
      "metadata": {
        "id": "PVBHtfEH2nzV"
      },
      "source": [
        "# Calibrando CNN\n",
        "\n",
        "https://stackoverflow.com/questions/62013025/keras-remove-activation-function-of-last-layer"
      ]
    },
    {
      "cell_type": "code",
      "metadata": {
        "id": "6NJFQQJ24P25"
      },
      "source": [
        "# Hold weights:\n",
        "weights = modelo_cnn.get_weights()\n",
        "\n",
        "# Model - softmax\n",
        "modelo_cnn_no_softmax = keras.Sequential([\n",
        "    keras.layers.InputLayer(input_shape=(48,48,1)),\n",
        "    keras.models.Sequential(modelo_cnn.layers[:-1]),\n",
        "    keras.layers.Dense(7, name='dense_51')\n",
        "])\n",
        "\n",
        "# 4. Pass the imagenet weights onto the second resnet\n",
        "modelo_cnn_no_softmax.set_weights(modelo_cnn.get_weights())"
      ],
      "execution_count": null,
      "outputs": []
    },
    {
      "cell_type": "code",
      "metadata": {
        "id": "h5lIN7Bi3N7G"
      },
      "source": [
        "y_logits_val=modelo_cnn_no_softmax.predict(x_valid)\n",
        "y_logits_test=modelo_cnn_no_softmax.predict(x_test)\n",
        "\n",
        "y_probs_val=modelo_cnn.predict(x_valid)\n",
        "y_probs_test=modelo_cnn.predict(x_test)"
      ],
      "execution_count": null,
      "outputs": []
    },
    {
      "cell_type": "code",
      "metadata": {
        "id": "x_B_ggOaJ9Fg"
      },
      "source": [
        "true = y_valid.flatten() # Flatten y_val"
      ],
      "execution_count": null,
      "outputs": []
    },
    {
      "cell_type": "code",
      "metadata": {
        "id": "Tr07DWXDJ9Kb"
      },
      "source": [
        "opt = minimize(loss_fun, x0 = 1, args=(y_logits_val, true))\n",
        "T= opt.x[0]"
      ],
      "execution_count": null,
      "outputs": []
    },
    {
      "cell_type": "code",
      "metadata": {
        "id": "kfT5ssmuV0PQ"
      },
      "source": [
        "y_probs_ts=[softmax(probs/T) for probs in y_logits_test]\n",
        "y_confs_ts=np.array(y_probs_ts).max(axis=1)\n",
        "y_pred_ts=np.array(y_probs_ts).argmax(axis=1)\n",
        "\n",
        "acc_ts,conf_ts,lon=get_bin_info(y_confs_ts, y_pred_ts, y_test, bin_size = 0.1)"
      ],
      "execution_count": null,
      "outputs": []
    },
    {
      "cell_type": "code",
      "metadata": {
        "id": "kK5S5z7O5X7d"
      },
      "source": [
        "fig, ax = plt.subplots(nrows=1, ncols=1, sharex='col', sharey='row')\n",
        "rel_diagram_sub(acc_ts,conf_ts, ax, name = \"Reliability Diagram CNN calibrada\", yname = \"Accuracy\", xname=\"Confidence\")"
      ],
      "execution_count": null,
      "outputs": []
    },
    {
      "cell_type": "markdown",
      "metadata": {
        "id": "LQ1z5GU6rQcV"
      },
      "source": [
        "# Exploración expresiones"
      ]
    },
    {
      "cell_type": "code",
      "metadata": {
        "id": "ORIT8dw5i7Oq"
      },
      "source": [
        "expresiones=x_test[y_test==1]\n",
        "print(expresiones.shape)\n",
        "#Data Visualization using matplotlib\n",
        "fig = plt.figure(figsize=(6,8))\n",
        "for i in range(1, 10):\n",
        "    fig.add_subplot(3,3,i)\n",
        "    plt.imshow(expresiones[i].reshape(48,48),cmap='gray')\n",
        "    plt.grid(False)"
      ],
      "execution_count": null,
      "outputs": []
    },
    {
      "cell_type": "code",
      "metadata": {
        "id": "cD06AUIPsLEU"
      },
      "source": [
        "modelo=modelo_cnn\n",
        "for layer in modelo.layers:\n",
        "\t# check for convolutional layer\n",
        "\tif 'conv' not in layer.name:\n",
        "\t\tcontinue\n",
        "\t# get filter weights\n",
        "\tfilters, biases = layer.get_weights()\n",
        "\tprint(layer.name, filters.shape)\n",
        "\n",
        "\n",
        "num=1\n",
        "# redefine model to output right after the first hidden layer\n",
        "model = Model(inputs=modelo.inputs, outputs=modelo.layers[num].output)\n",
        "model.summary()\n",
        "\n",
        "# load the image with the required shape\n",
        "img = expresiones[4]\n",
        "\n",
        "# expand dimensions so that it represents a single 'sample'\n",
        "img = np.expand_dims(img, axis=0)\n",
        "print(img.shape)\n",
        "# get feature map for first hidden layer\n",
        "feature_maps = model.predict(img)\n",
        "\n",
        "# plot all 64 maps in an 8x8 squares\n",
        "square = 3\n",
        "ix = 1\n",
        "for _ in range(square):\n",
        "  for _ in range(square):\n",
        "    # specify subplot and turn of axis\n",
        "    ax = plt.subplot(square, square, ix)\n",
        "    ax.set_xticks([])\n",
        "    ax.set_yticks([])\n",
        "\t\t# plot filter channel in grayscale\n",
        "    plt.imshow(feature_maps[0, :, :, ix-1], cmap='gray')\n",
        "    ix += 1\n",
        "    \n",
        "# show the figure\n",
        "plt.show()"
      ],
      "execution_count": null,
      "outputs": []
    },
    {
      "cell_type": "code",
      "metadata": {
        "id": "jyADDkk6MvJx"
      },
      "source": [
        ""
      ],
      "execution_count": null,
      "outputs": []
    },
    {
      "cell_type": "code",
      "metadata": {
        "id": "r7-P8ZYnp_73"
      },
      "source": [
        ""
      ],
      "execution_count": null,
      "outputs": []
    }
  ]
}