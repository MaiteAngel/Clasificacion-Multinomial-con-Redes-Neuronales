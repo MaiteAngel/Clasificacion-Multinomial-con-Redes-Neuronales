{
  "nbformat": 4,
  "nbformat_minor": 0,
  "metadata": {
    "colab": {
      "name": "Expresiones_faciales_entrenamiento.ipynb",
      "provenance": [],
      "collapsed_sections": []
    },
    "kernelspec": {
      "display_name": "Python 3",
      "language": "python",
      "name": "python3"
    },
    "language_info": {
      "codemirror_mode": {
        "name": "ipython",
        "version": 3
      },
      "file_extension": ".py",
      "mimetype": "text/x-python",
      "name": "python",
      "nbconvert_exporter": "python",
      "pygments_lexer": "ipython3",
      "version": "3.7.4"
    },
    "accelerator": "GPU"
  },
  "cells": [
    {
      "cell_type": "markdown",
      "metadata": {
        "id": "6Kcm7qcGgR1X"
      },
      "source": [
        "# Librerias"
      ]
    },
    {
      "cell_type": "code",
      "metadata": {
        "id": "PGcY2HT0Ze0B"
      },
      "source": [
        "!pip install keras_vggface\n",
        "!pip install keras_applications\n",
        "!pip install tensorflow keras"
      ],
      "execution_count": null,
      "outputs": []
    },
    {
      "cell_type": "code",
      "metadata": {
        "id": "ZcX_87-CYFd4"
      },
      "source": [
        "import pickle \n",
        "import numpy as np\n",
        "import matplotlib.pyplot as plt\n",
        "import pandas as pd\n",
        "from PIL import Image\n",
        "import tensorflow as tf\n",
        "import keras\n",
        "from keras_vggface.vggface import VGGFace\n",
        "from google.colab import drive\n",
        "from pathlib import Path\n",
        "from datetime import datetime\n",
        "from sklearn import metrics\n",
        "from sklearn.datasets import make_classification\n",
        "from sklearn.linear_model import LogisticRegression\n",
        "from sklearn.model_selection import train_test_split\n",
        "from sklearn.pipeline import make_pipeline\n",
        "from sklearn.preprocessing import StandardScaler"
      ],
      "execution_count": null,
      "outputs": []
    },
    {
      "cell_type": "markdown",
      "metadata": {
        "id": "cg_c8zbWYFd7"
      },
      "source": [
        "# Importamos la data"
      ]
    },
    {
      "cell_type": "code",
      "metadata": {
        "id": "3l3PEVHKYRTG"
      },
      "source": [
        "drive.mount('/content/gdrive')"
      ],
      "execution_count": null,
      "outputs": []
    },
    {
      "cell_type": "code",
      "metadata": {
        "id": "r3avVzj_YFd7"
      },
      "source": [
        "data=pd.read_csv(\"/content/gdrive/MyDrive/fer2013.csv\")\n",
        "data.emotion.value_counts()"
      ],
      "execution_count": null,
      "outputs": []
    },
    {
      "cell_type": "code",
      "metadata": {
        "id": "LzkpgrFtYFd_"
      },
      "source": [
        "FER2013_WIDTH = 48\n",
        "FER2013_HEIGHT = 48"
      ],
      "execution_count": null,
      "outputs": []
    },
    {
      "cell_type": "code",
      "metadata": {
        "id": "ArNmSl20YFd8"
      },
      "source": [
        "Emotions = [\"Angry\", \"Disgust\", \"Fear\", \"Happy\", \"Sad\", \"Surprise\", \"Neutral\"]"
      ],
      "execution_count": null,
      "outputs": []
    },
    {
      "cell_type": "markdown",
      "metadata": {
        "id": "aS7-E8UgYFd9"
      },
      "source": [
        "# Ejemplo de imagen"
      ]
    },
    {
      "cell_type": "code",
      "metadata": {
        "id": "ZlWPoB5_YFd-",
        "colab": {
          "base_uri": "https://localhost:8080/"
        },
        "outputId": "1628d6cf-8f10-4251-8e87-a2122fd13c69"
      },
      "source": [
        "num=10\n",
        "array = np.mat(data.pixels[num]).reshape(48, 48,1)\n",
        "print(\"Samuel Jackson enojado\")\n",
        "plt.imshow(array, cmap='gray')#, cmap=plt.cm.binary)\n",
        "print(Emotions[data.emotion[num]])"
      ],
      "execution_count": null,
      "outputs": [
        {
          "output_type": "stream",
          "text": [
            "Samuel Jackson enojado\n",
            "Angry\n"
          ],
          "name": "stdout"
        },
        {
          "output_type": "display_data",
          "data": {
            "image/png": "[encoded data removed]",
            "text/plain": [
              "<Figure size 432x288 with 1 Axes>"
            ]
          },
          "metadata": {
            "tags": [],
            "needs_background": "light"
          }
        }
      ]
    },
    {
      "cell_type": "markdown",
      "metadata": {
        "id": "9hRc0FplYFd-"
      },
      "source": [
        "# Preprocesamiento"
      ]
    },
    {
      "cell_type": "code",
      "metadata": {
        "id": "3Ho49B-sYFd_"
      },
      "source": [
        "# Separamos training y public/private testing data\n",
        "valid_data = data[data.Usage==\"PublicTest\"].reset_index(drop=True)\n",
        "test_data = data[data.Usage==\"PrivateTest\"].reset_index(drop=True)\n",
        "train_data = data[data.Usage==\"Training\"].reset_index(drop=True)"
      ],
      "execution_count": null,
      "outputs": []
    },
    {
      "cell_type": "code",
      "metadata": {
        "id": "0wib_wepHg13"
      },
      "source": [
        "print(\"Train\")\n",
        "print(train_data.emotion.value_counts())\n",
        "print(\"Valid\")\n",
        "print(valid_data.emotion.value_counts())\n",
        "print(\"Test\")\n",
        "print(test_data.emotion.value_counts())"
      ],
      "execution_count": null,
      "outputs": []
    },
    {
      "cell_type": "code",
      "metadata": {
        "id": "gUiWAgmKYFd_"
      },
      "source": [
        "def fer2013_to_X(data,enr):\n",
        "    pixels_list = data[\"pixels\"].values\n",
        "    labels_list = data[\"emotion\"].values\n",
        "    count=0\n",
        "    for pixels in pixels_list:\n",
        "      \n",
        "        #normal data\n",
        "        single_image = np.reshape(pixels.split(\" \"), (FER2013_WIDTH, FER2013_HEIGHT)).astype(\"float\")\n",
        "        im = Image.fromarray((single_image).astype(np.uint8))\n",
        "        sink = Path(f\"data/{enr}/{Emotions[labels_list[count]]}\")\n",
        "        if not sink.exists():\n",
        "          sink.mkdir(parents=True, exist_ok=True)\n",
        "        im.save(f\"data/{enr}/{Emotions[labels_list[count]]}/FER2013-{enr}-{Emotions[labels_list[count]]}-{count}.png\")\n",
        "                \n",
        "        count=count+1"
      ],
      "execution_count": null,
      "outputs": []
    },
    {
      "cell_type": "code",
      "metadata": {
        "id": "kZd3czGIYFeA"
      },
      "source": [
        "# Crear directorios\n",
        "fer2013_to_X(train_data,\"train\")\n",
        "fer2013_to_X(valid_data,\"valid\")\n",
        "fer2013_to_X(test_data,\"test\")"
      ],
      "execution_count": null,
      "outputs": []
    },
    {
      "cell_type": "markdown",
      "metadata": {
        "id": "3iK9dWRkwnSn"
      },
      "source": [
        "# Modelos"
      ]
    },
    {
      "cell_type": "code",
      "metadata": {
        "id": "HRosE94jBwaY"
      },
      "source": [
        "xy_training = tf.keras.preprocessing.image_dataset_from_directory(\"/content/data/train\", image_size=(48,48), color_mode='grayscale',label_mode=\"int\")\n",
        "xy_validation = tf.keras.preprocessing.image_dataset_from_directory(\"/content/data/valid\", image_size=(48,48), color_mode='grayscale',label_mode=\"int\")\n",
        "xy_testing = tf.keras.preprocessing.image_dataset_from_directory(\"/content/data/test\", image_size=(48,48), color_mode='grayscale',label_mode=\"int\")"
      ],
      "execution_count": null,
      "outputs": []
    },
    {
      "cell_type": "markdown",
      "metadata": {
        "id": "9nl_A0ODKGLX"
      },
      "source": [
        "## Regresion logistical multinomial"
      ]
    },
    {
      "cell_type": "code",
      "metadata": {
        "id": "9LVi2T7ULrBX"
      },
      "source": [
        "x_train=[]\n",
        "y_train=[]\n",
        "for x, y in xy_training:\n",
        "  for im in list(np.array(x)):\n",
        "    x_train=x_train+[np.array(im)]#a)]\n",
        "  y_train=y_train+list(np.array(y))\n",
        "\n",
        "x_train=np.array(x_train).reshape(len(x_train),48*48*1)\n",
        "y_train=np.array(y_train)"
      ],
      "execution_count": null,
      "outputs": []
    },
    {
      "cell_type": "code",
      "metadata": {
        "id": "GbxwKf-CncHZ"
      },
      "source": [
        "pipe = make_pipeline(StandardScaler(), LogisticRegression(multi_class='multinomial', fit_intercept=True,max_iter=10000))\n",
        "pipe.fit(x_train, y_train) "
      ],
      "execution_count": null,
      "outputs": []
    },
    {
      "cell_type": "code",
      "metadata": {
        "id": "2MwzTdBLNMIG"
      },
      "source": [
        "x_test=[]\n",
        "y_test=[]\n",
        "for x, y in xy_testing:\n",
        "  for im in list(np.array(x)):\n",
        "    x_test=x_test+[np.array(im)]#a)]\n",
        "  y_test=y_test+list(np.array(y))\n",
        "\n",
        "x_test=np.array(x_test).reshape(len(x_test),48*48*1)\n",
        "y_test=np.array(y_test)"
      ],
      "execution_count": null,
      "outputs": []
    },
    {
      "cell_type": "code",
      "metadata": {
        "id": "tp0w2ThINEDU"
      },
      "source": [
        "pred=pipe.predict(x_test)\n",
        "true=y_test\n",
        "np.mean(pred==true)"
      ],
      "execution_count": null,
      "outputs": []
    },
    {
      "cell_type": "code",
      "metadata": {
        "id": "wXyhrxf1s4I9"
      },
      "source": [
        "filename = 'ML_finalized_model.sav'\n",
        "pickle.dump(pipe, open(filename, 'wb'))"
      ],
      "execution_count": null,
      "outputs": []
    },
    {
      "cell_type": "code",
      "metadata": {
        "id": "_9kf6tIDs-UF"
      },
      "source": [
        "from google.colab import files\n",
        "\n",
        "files.download('ML_finalized_model.sav')"
      ],
      "execution_count": null,
      "outputs": []
    },
    {
      "cell_type": "markdown",
      "metadata": {
        "id": "VNZyWMc_BrOu"
      },
      "source": [
        "## \"Regresión Logística\" con softmax"
      ]
    },
    {
      "cell_type": "code",
      "metadata": {
        "id": "OGH5oWuZBqyC"
      },
      "source": [
        "model_l = keras.Sequential([\n",
        "    tf.keras.layers.InputLayer(input_shape=(48,48, 1)),\n",
        "    keras.layers.Lambda(lambda x: x/255.0),                 \n",
        "    keras.layers.Flatten(),\n",
        "    keras.layers.Dense(7, activation='softmax')\n",
        "])\n",
        "model_l.summary()"
      ],
      "execution_count": null,
      "outputs": []
    },
    {
      "cell_type": "code",
      "metadata": {
        "id": "by5yJcsfw5ql"
      },
      "source": [
        "model_l.compile(optimizer='adam',\n",
        "              loss='sparse_categorical_crossentropy',\n",
        "              metrics=['accuracy'])\n",
        "model_l.fit(xy_training, validation_data=xy_validation, epochs=50)"
      ],
      "execution_count": null,
      "outputs": []
    },
    {
      "cell_type": "code",
      "metadata": {
        "id": "i9X8-4vfxHzK"
      },
      "source": [
        "test_loss, test_acc = model_l.evaluate(xy_testing, verbose=2)\n",
        "timestamp = datetime.now().strftime(\"%Y%m%d-%H%M%S\")\n",
        "model_l.save(f\"ML{timestamp}.h5\")"
      ],
      "execution_count": null,
      "outputs": []
    },
    {
      "cell_type": "code",
      "metadata": {
        "id": "Is0U0D1De35p"
      },
      "source": [
        "test_loss, test_acc"
      ],
      "execution_count": null,
      "outputs": []
    },
    {
      "cell_type": "code",
      "metadata": {
        "id": "3FJ13PjAKc_8"
      },
      "source": [
        "from google.colab import files\n",
        "\n",
        "files.download(f\"ML{timestamp}.h5\")"
      ],
      "execution_count": null,
      "outputs": []
    },
    {
      "cell_type": "markdown",
      "metadata": {
        "id": "RMTEVNYauArV"
      },
      "source": [
        "## Redes FC\n"
      ]
    },
    {
      "cell_type": "code",
      "metadata": {
        "id": "BjxzzSdJaCum"
      },
      "source": [
        "model_fc = keras.Sequential([\n",
        "    keras.layers.InputLayer(input_shape=(48,48, 1)),\n",
        "    keras.layers.Lambda(lambda x: x/255.0),\n",
        "    keras.layers.Flatten(),\n",
        "    keras.layers.Dense(288, activation='relu'),\n",
        "    keras.layers.Dense(128, activation='relu'),\n",
        "    keras.layers.Dense(64, activation='relu'),\n",
        "    keras.layers.Dense(64, activation='relu'),\n",
        "    keras.layers.BatchNormalization(),\n",
        "    keras.layers.Dropout(0.25),\n",
        "    keras.layers.Dense(7, activation='softmax')\n",
        "])\n",
        "model_fc.summary()"
      ],
      "execution_count": null,
      "outputs": []
    },
    {
      "cell_type": "code",
      "metadata": {
        "id": "Jk7hZwyNxaZu"
      },
      "source": [
        "model_fc.compile(optimizer='adam',\n",
        "              loss='sparse_categorical_crossentropy',\n",
        "              metrics=['accuracy'])\n",
        "model_fc.fit(xy_training, validation_data=xy_validation, epochs=5)"
      ],
      "execution_count": null,
      "outputs": []
    },
    {
      "cell_type": "code",
      "metadata": {
        "id": "2xDb4DQ3aMNS"
      },
      "source": [
        "test_loss, test_acc = model_fc.evaluate(xy_testing, verbose=2)\n",
        "timestamp = datetime.now().strftime(\"%Y%m%d-%H%M%S\")\n",
        "model_fc.save(f\"FF{timestamp}-con-division.h5\")"
      ],
      "execution_count": null,
      "outputs": []
    },
    {
      "cell_type": "code",
      "metadata": {
        "id": "V2hXajrZxN7L"
      },
      "source": [
        "from google.colab import files\n",
        "\n",
        "files.download(f\"FF{timestamp}-con-division.h5\")"
      ],
      "execution_count": null,
      "outputs": []
    },
    {
      "cell_type": "markdown",
      "metadata": {
        "id": "drRFgpmbuEeX"
      },
      "source": [
        "## Redes CNN"
      ]
    },
    {
      "cell_type": "code",
      "metadata": {
        "id": "IIl8FuSSt__Y"
      },
      "source": [
        "model = keras.Sequential([\n",
        "    keras.layers.InputLayer(input_shape=(48,48, 1)),\n",
        "    keras.layers.Lambda(lambda x: x/255.0),\n",
        "\n",
        "    keras.layers.Conv2D(64, (3, 3), activation='relu', padding = 'same'),\n",
        "    keras.layers.MaxPooling2D(pool_size=(3,3), strides=(2, 2)),\n",
        "    keras.layers.BatchNormalization(),\n",
        "    keras.layers.Dropout(0.25),\n",
        "\n",
        "    keras.layers.Conv2D(64, (3, 3), activation='relu', padding = 'same'),\n",
        "    keras.layers.MaxPooling2D(pool_size=(3,3), strides=(2, 2)),\n",
        "    keras.layers.BatchNormalization(),\n",
        "    keras.layers.Dropout(0.25),\n",
        "          \n",
        "    keras.layers.Conv2D(256, (3, 3), activation='relu', padding = 'same'),\n",
        "    keras.layers.MaxPooling2D(pool_size=(3,3), strides=(2, 2)),\n",
        "    keras.layers.BatchNormalization(),\n",
        "    keras.layers.Dropout(0.25),\n",
        "\n",
        "    keras.layers.Conv2D(256, (3, 3), activation='relu', padding = 'same'),\n",
        "    keras.layers.MaxPooling2D(pool_size=(3,3), strides=(2, 2)),\n",
        "    keras.layers.BatchNormalization(),\n",
        "    keras.layers.Dropout(0.25),\n",
        "\n",
        "    keras.layers.Flatten(),\n",
        "    keras.layers.Dense(7, activation='softmax')\n",
        "])\n",
        "model.summary()\n"
      ],
      "execution_count": null,
      "outputs": []
    },
    {
      "cell_type": "code",
      "metadata": {
        "id": "wsSGt2xazjck"
      },
      "source": [
        "model.compile(optimizer='adam',\n",
        "              loss=tf.keras.losses.SparseCategoricalCrossentropy(),\n",
        "              metrics=['accuracy'])\n",
        "\n",
        "model.fit(xy_training, validation_data=xy_validation, epochs=50)"
      ],
      "execution_count": null,
      "outputs": []
    },
    {
      "cell_type": "code",
      "metadata": {
        "id": "svP2hdKBzl49"
      },
      "source": [
        "test_loss, test_acc = model.evaluate(xy_testing, verbose=2)\n",
        "test_loss, test_acc\n",
        "timestamp = datetime.now().strftime(\"%Y%m%d-%H%M%S\")\n",
        "model.save(f\"CNN2{timestamp}.h5\")"
      ],
      "execution_count": null,
      "outputs": []
    },
    {
      "cell_type": "code",
      "metadata": {
        "colab": {
          "base_uri": "https://localhost:8080/",
          "height": 17
        },
        "id": "PN3qaj3XLYqa",
        "outputId": "2bc981d9-2e05-4709-a063-c4fd0774d197"
      },
      "source": [
        "from google.colab import files\n",
        "\n",
        "files.download(f\"CNN2{timestamp}.h5\")"
      ],
      "execution_count": null,
      "outputs": [
        {
          "output_type": "display_data",
          "data": {
            "application/javascript": [
              "\n",
              "    async function download(id, filename, size) {\n",
              "      if (!google.colab.kernel.accessAllowed) {\n",
              "        return;\n",
              "      }\n",
              "      const div = document.createElement('div');\n",
              "      const label = document.createElement('label');\n",
              "      label.textContent = `Downloading \"${filename}\": `;\n",
              "      div.appendChild(label);\n",
              "      const progress = document.createElement('progress');\n",
              "      progress.max = size;\n",
              "      div.appendChild(progress);\n",
              "      document.body.appendChild(div);\n",
              "\n",
              "      const buffers = [];\n",
              "      let downloaded = 0;\n",
              "\n",
              "      const channel = await google.colab.kernel.comms.open(id);\n",
              "      // Send a message to notify the kernel that we're ready.\n",
              "      channel.send({})\n",
              "\n",
              "      for await (const message of channel.messages) {\n",
              "        // Send a message to notify the kernel that we're ready.\n",
              "        channel.send({})\n",
              "        if (message.buffers) {\n",
              "          for (const buffer of message.buffers) {\n",
              "            buffers.push(buffer);\n",
              "            downloaded += buffer.byteLength;\n",
              "            progress.value = downloaded;\n",
              "          }\n",
              "        }\n",
              "      }\n",
              "      const blob = new Blob(buffers, {type: 'application/binary'});\n",
              "      const a = document.createElement('a');\n",
              "      a.href = window.URL.createObjectURL(blob);\n",
              "      a.download = filename;\n",
              "      div.appendChild(a);\n",
              "      a.click();\n",
              "      div.remove();\n",
              "    }\n",
              "  "
            ],
            "text/plain": [
              "<IPython.core.display.Javascript object>"
            ]
          },
          "metadata": {
            "tags": []
          }
        },
        {
          "output_type": "display_data",
          "data": {
            "application/javascript": [
              "download(\"download_b5db19a4-57ce-435c-ad6e-8865b3b65b01\", \"CNN220210529-023516.h5\", 9507224)"
            ],
            "text/plain": [
              "<IPython.core.display.Javascript object>"
            ]
          },
          "metadata": {
            "tags": []
          }
        }
      ]
    },
    {
      "cell_type": "markdown",
      "metadata": {
        "id": "GL-y6vs3OpLo"
      },
      "source": [
        "## TL: **VGG Face**\n",
        "\n",
        "Inspiracion:\n",
        "\n",
        "https://github.com/ivadym/FER\n",
        "\n",
        "https://github.com/rcmalli/keras-vggface\n",
        "\n",
        "Performa cerca del 71% (ganador de la competencia)"
      ]
    },
    {
      "cell_type": "code",
      "metadata": {
        "id": "VuV0dzmOOzD3"
      },
      "source": [
        "img_height, img_width = 224,224#197, 197#\n",
        "module=VGGFace(model = 'resnet50',include_top = False,weights = 'vggface',input_shape = (img_height, img_width, 3))"
      ],
      "execution_count": null,
      "outputs": []
    },
    {
      "cell_type": "code",
      "metadata": {
        "id": "oSnigmrjTJKB"
      },
      "source": [
        "xy_training = tf.keras.preprocessing.image_dataset_from_directory(\"/content/data/train\", image_size=(img_height, img_width), color_mode='rgb',label_mode=\"int\")\n",
        "xy_validation = tf.keras.preprocessing.image_dataset_from_directory(\"/content/data/valid\", image_size=(img_height, img_width), color_mode='rgb',label_mode=\"int\")\n",
        "xy_testing = tf.keras.preprocessing.image_dataset_from_directory(\"/content/data/test\", image_size=(img_height, img_width), color_mode='rgb',label_mode=\"int\")"
      ],
      "execution_count": null,
      "outputs": []
    },
    {
      "cell_type": "code",
      "metadata": {
        "id": "h-M1GTjITLZV"
      },
      "source": [
        "model = keras.Sequential([\n",
        "    keras.layers.InputLayer(input_shape=(img_height, img_width, 3)),\n",
        "    keras.layers.Lambda(lambda x: (x-128.8006)), \n",
        "    module,\n",
        "    keras.layers.AveragePooling2D(pool_size=(2,2), strides=(2, 2),padding=\"same\"),\n",
        "    keras.layers.Flatten(),\n",
        "    keras.layers.Dense(1024, activation=\"relu\"),\n",
        "    keras.layers.Dense(7, \"sigmoid\"), \n",
        "])\n",
        "\n",
        "model.summary()"
      ],
      "execution_count": null,
      "outputs": []
    },
    {
      "cell_type": "code",
      "metadata": {
        "id": "g9GvpNbYz14t"
      },
      "source": [
        "model.compile(\n",
        "    optimizer   = tf.keras.optimizers.SGD(lr = 1e-4, momentum = 0.9, decay = 0.0, nesterov = True),\n",
        "    loss        = tf.keras.losses.SparseCategoricalCrossentropy(),\n",
        "    metrics     = ['accuracy'])"
      ],
      "execution_count": null,
      "outputs": []
    },
    {
      "cell_type": "code",
      "metadata": {
        "id": "CHK-d3ppOGD7"
      },
      "source": [
        "earlystop = tf.keras.callbacks.EarlyStopping(\"val_loss\", 0.01, 9, restore_best_weights=True)\n",
        "model.fit(xy_training, validation_data=xy_validation, epochs=10)#, callbacks=[earlystop])\n",
        "test_loss, test_acc = model.evaluate(xy_testing, verbose=2)"
      ],
      "execution_count": null,
      "outputs": []
    },
    {
      "cell_type": "code",
      "metadata": {
        "id": "gzofcjW41vox"
      },
      "source": [
        "timestamp = datetime.now().strftime(\"%Y%m%d-%H%M%S\")\n",
        "model.save(f\"VGGface{timestamp}.h5\")"
      ],
      "execution_count": null,
      "outputs": []
    },
    {
      "cell_type": "code",
      "metadata": {
        "id": "tLiJIz7JFsWy"
      },
      "source": [
        "test_loss, test_acc = model.evaluate(xy_testing, verbose=2)\n",
        "test_loss, test_acc"
      ],
      "execution_count": null,
      "outputs": []
    },
    {
      "cell_type": "code",
      "metadata": {
        "id": "jMXWoayyXUlK"
      },
      "source": [
        "from google.colab import files\n",
        "\n",
        "files.download(f\"VGGface{timestamp}.h5\")"
      ],
      "execution_count": null,
      "outputs": []
    },
    {
      "cell_type": "code",
      "metadata": {
        "id": "EQCHqOm3OSpx"
      },
      "source": [
        ""
      ],
      "execution_count": null,
      "outputs": []
    },
    {
      "cell_type": "code",
      "metadata": {
        "id": "2fIdkhMU_wW9"
      },
      "source": [
        ""
      ],
      "execution_count": null,
      "outputs": []
    }
  ]
}